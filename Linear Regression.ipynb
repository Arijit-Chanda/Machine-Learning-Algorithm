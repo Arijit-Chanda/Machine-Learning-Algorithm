{
  "nbformat": 4,
  "nbformat_minor": 0,
  "metadata": {
    "colab": {
      "provenance": []
    },
    "kernelspec": {
      "name": "python3",
      "display_name": "Python 3"
    },
    "language_info": {
      "name": "python"
    }
  },
  "cells": [
    {
      "cell_type": "markdown",
      "source": [
        "\n",
        "\n",
        "#Linear Regression\n",
        "\n"
      ],
      "metadata": {
        "id": "zsO2_6yI1DYU"
      }
    },
    {
      "cell_type": "code",
      "source": [
        "#importing pandas, numpy and matplotlib\n",
        "import pandas as pd\n",
        "import matplotlib.pyplot as plt\n",
        "import numpy as np"
      ],
      "metadata": {
        "id": "4F6N38Y71PyD"
      },
      "execution_count": 1,
      "outputs": []
    },
    {
      "cell_type": "code",
      "source": [
        "#Loading a csv file\n",
        "linear_train = pd.read_csv('/content/drive/MyDrive/linear_train.csv')\n",
        "print(linear_train.shape)\n",
        "\n",
        "#creating a 2D array\n",
        "x_train=np.zeros((50000,22))\n",
        "\n",
        "#importing values from linear train to the array x_train\n",
        "x_train = linear_train.loc[:,:]"
      ],
      "metadata": {
        "id": "WttDRDNA12rf",
        "colab": {
          "base_uri": "https://localhost:8080/"
        },
        "outputId": "b69fc5d3-d717-4c3d-bae8-a583d7d7d108"
      },
      "execution_count": 2,
      "outputs": [
        {
          "output_type": "stream",
          "name": "stdout",
          "text": [
            "(50000, 22)\n"
          ]
        }
      ]
    },
    {
      "cell_type": "code",
      "source": [
        "#creating array\n",
        "x_train=np.array(x_train)\n",
        "y_test= np.array(x_train[:,21])\n",
        "\n",
        "#deleting 1st and last column of x_train\n",
        "x_train=np.delete(x_train,0,axis=1)\n",
        "x_train=np.delete(x_train,20,axis=1)"
      ],
      "metadata": {
        "id": "mwcIh-5ccb4t"
      },
      "execution_count": 3,
      "outputs": []
    },
    {
      "cell_type": "code",
      "source": [
        "#This normalise X\n",
        "def normalise(x):\n",
        "  mean=np.mean(x,axis=0)\n",
        "  std=np.std(x,axis=0)\n",
        "  x_n=(x-mean)/std\n",
        "  return x_n\n",
        "  \n",
        "x_train=normalise(x_train)\n",
        "print(x_train.shape)"
      ],
      "metadata": {
        "colab": {
          "base_uri": "https://localhost:8080/"
        },
        "id": "qsYN-YEdXnfg",
        "outputId": "60911e75-b853-462c-e480-59fd1605341e"
      },
      "execution_count": 4,
      "outputs": [
        {
          "output_type": "stream",
          "name": "stdout",
          "text": [
            "(50000, 20)\n"
          ]
        }
      ]
    },
    {
      "cell_type": "code",
      "source": [
        "y_test=y_test.reshape(50000,1)\n",
        "print(y_test)\n",
        "\n",
        "#To bring the value of y in between 0 and 1\n",
        "y_test=(y_test-np.min(y_test))/(np.max(y_test)-np.min(y_test)) "
      ],
      "metadata": {
        "colab": {
          "base_uri": "https://localhost:8080/"
        },
        "id": "ZwsuEebWzw0C",
        "outputId": "1df55402-d948-4a78-9038-b982ad6dca93"
      },
      "execution_count": 5,
      "outputs": [
        {
          "output_type": "stream",
          "name": "stdout",
          "text": [
            "[[-218.01623149]\n",
            " [ 154.14084898]\n",
            " [ 394.84970115]\n",
            " ...\n",
            " [  -3.44448897]\n",
            " [ 445.35678148]\n",
            " [-500.9246807 ]]\n"
          ]
        }
      ]
    },
    {
      "cell_type": "code",
      "source": [
        "w=np.zeros((20,1))\n",
        "b=1\n",
        "#Find  value of the Funtion f= w1x1 + w2x2 + w3x3 +...... +b\n",
        "def predict(x,w,b):\n",
        "  f_wb= np.dot(x,w) + b\n",
        "  return f_wb\n",
        "\n",
        "y_predict=predict(x_train,w,b)\n",
        "print(y_predict.shape)"
      ],
      "metadata": {
        "colab": {
          "base_uri": "https://localhost:8080/"
        },
        "id": "vmptO9Gxiz3U",
        "outputId": "875fef06-c01a-4eb0-87e5-1e57b06a23f1"
      },
      "execution_count": 6,
      "outputs": [
        {
          "output_type": "stream",
          "name": "stdout",
          "text": [
            "(50000, 1)\n"
          ]
        }
      ]
    },
    {
      "cell_type": "code",
      "source": [
        "'''to compute cost by the formula summation(f(x)-y)**2 and \n",
        "then divided my 2*no of different sets of data'''\n",
        "\n",
        "def cost(x,y,w,b):\n",
        "  f=predict(x,w,b)\n",
        "  m=x.shape[0]\n",
        "  cost=(f-y)**2\n",
        "  cost=cost/(2*m)\n",
        "  cost=np.sum(cost)\n",
        "  return cost\n",
        "  \n",
        "#Let's see the cost \n",
        "cost(x_train,y_test,w,b)   "
      ],
      "metadata": {
        "id": "5F9jQrLM_Ahq",
        "colab": {
          "base_uri": "https://localhost:8080/"
        },
        "outputId": "8a51451a-85bc-4476-9786-0dd11c121a08"
      },
      "execution_count": 8,
      "outputs": [
        {
          "output_type": "execute_result",
          "data": {
            "text/plain": [
              "0.14531437272079512"
            ]
          },
          "metadata": {},
          "execution_count": 8
        }
      ]
    },
    {
      "cell_type": "code",
      "source": [
        "#to calculate rms error function\n",
        "def Rms(predictions, targets):\n",
        "      return np.sqrt(((predictions - targets) ** 2).mean())"
      ],
      "metadata": {
        "id": "nq3LcBanpHrN"
      },
      "execution_count": 9,
      "outputs": []
    },
    {
      "cell_type": "code",
      "source": [
        "#This calculates dJ/dw and dJ/db and returns that \n",
        "def gradient(x,y,w,b):\n",
        "  dj_dw=np.zeros((20,1))\n",
        "  dj_db=0\n",
        "  m=x.shape[0]\n",
        "  f= predict(x,w,b)\n",
        "  dj_db=np.sum(f-y)/m\n",
        "  dj_dw=np.dot(x.T,f-y)/m\n",
        "  return dj_dw, dj_db \n",
        "\n",
        "gradient(x_train,y_test,w,b)"
      ],
      "metadata": {
        "id": "IeGgHNuBnbJU",
        "colab": {
          "base_uri": "https://localhost:8080/"
        },
        "outputId": "8e207876-9bf7-4bdf-cd28-6600d9af8097"
      },
      "execution_count": 10,
      "outputs": [
        {
          "output_type": "execute_result",
          "data": {
            "text/plain": [
              "(array([[-0.03494538],\n",
              "        [-0.03252595],\n",
              "        [-0.04711588],\n",
              "        [-0.00052049],\n",
              "        [-0.00840974],\n",
              "        [-0.01227667],\n",
              "        [-0.03549587],\n",
              "        [-0.01527336],\n",
              "        [-0.01003366],\n",
              "        [-0.04548918],\n",
              "        [-0.01994824],\n",
              "        [-0.01848977],\n",
              "        [-0.00190956],\n",
              "        [-0.03973803],\n",
              "        [-0.03973803],\n",
              "        [-0.0230226 ],\n",
              "        [-0.0111537 ],\n",
              "        [-0.01632685],\n",
              "        [-0.0158784 ],\n",
              "        [-0.02039402]]),\n",
              " 0.5253541226089755)"
            ]
          },
          "metadata": {},
          "execution_count": 10
        }
      ]
    },
    {
      "cell_type": "code",
      "source": [
        "'''This uses the partial derivative and change w and b. \n",
        "In each steps to calculate cost and after complitions display the graph.\n",
        "Also it gives the final w and b'''  \n",
        "\n",
        "def gradient_descent(x,y,w,b,alpha):\n",
        "  for i in range(iterations):\n",
        "    dj_dw_f, dj_db_f= gradient(x,y,w,b)\n",
        "    w= w - alpha*dj_dw_f\n",
        "    b= b - alpha*dj_db_f\n",
        "    if (i+1)%1000==0:\n",
        "      print(\"cost after\",i+1,\"iterations\",cost(x,y,w,b))\n",
        "    h=cost(x,y,w,b)\n",
        "    plt.plot(i,h,c='b',marker='x')\n",
        "    plt.title(\"GRAPH FOR COST VS ITERATIONS\")\n",
        "    plt.xlabel(\"ITERATIONS\")\n",
        "    plt.ylabel(\"COST\")\n",
        "  return w,b\n",
        "\n",
        "iterations=10000\n",
        "alpha=0.002\n",
        "w,b = gradient_descent(x_train,y_test,w,b,alpha)\n",
        "print(\"final w\",w)\n",
        "print(\"final b\",b)\n"
      ],
      "metadata": {
        "id": "SPdWIhvOw00e",
        "colab": {
          "base_uri": "https://localhost:8080/",
          "height": 1000
        },
        "outputId": "8069f892-6965-485d-be62-eb513132a978"
      },
      "execution_count": 11,
      "outputs": [
        {
          "output_type": "stream",
          "name": "stdout",
          "text": [
            "cost after 1000 iterations 0.0037664720298949067\n",
            "cost after 2000 iterations 0.0011972507211795592\n",
            "cost after 3000 iterations 0.0011503578650238085\n",
            "cost after 4000 iterations 0.0011495017207151098\n",
            "cost after 5000 iterations 0.001149486086170729\n",
            "cost after 6000 iterations 0.0011494858005921614\n",
            "cost after 7000 iterations 0.0011494857953745234\n",
            "cost after 8000 iterations 0.0011494857952791698\n",
            "cost after 9000 iterations 0.0011494857952774266\n",
            "cost after 10000 iterations 0.0011494857952773947\n",
            "final w [[0.03583506]\n",
            " [0.03252242]\n",
            " [0.04783565]\n",
            " [0.00084328]\n",
            " [0.00852387]\n",
            " [0.01218252]\n",
            " [0.03496925]\n",
            " [0.01521609]\n",
            " [0.00999028]\n",
            " [0.04602257]\n",
            " [0.01932663]\n",
            " [0.018289  ]\n",
            " [0.00138822]\n",
            " [0.01998066]\n",
            " [0.01998066]\n",
            " [0.02262475]\n",
            " [0.0105623 ]\n",
            " [0.01661543]\n",
            " [0.01653609]\n",
            " [0.01926708]]\n",
            "final b 0.47464587845239004\n"
          ]
        },
        {
          "output_type": "display_data",
          "data": {
            "text/plain": [
              "<Figure size 640x480 with 1 Axes>"
            ],
            "image/png": "[encoded data removed]"
          },
          "metadata": {}
        }
      ]
    },
    {
      "cell_type": "code",
      "source": [
        "y_predict=predict(x_train,w,b)\n",
        "print(\"RMS error is : \", Rms(y_predict,y_test))"
      ],
      "metadata": {
        "id": "LaA4FL71k0m6",
        "colab": {
          "base_uri": "https://localhost:8080/"
        },
        "outputId": "a6c73943-d07e-4c65-97df-743a635b9b16"
      },
      "execution_count": 12,
      "outputs": [
        {
          "output_type": "stream",
          "name": "stdout",
          "text": [
            "RMS error is :  0.047947592124681186\n"
          ]
        }
      ]
    }
  ]
}