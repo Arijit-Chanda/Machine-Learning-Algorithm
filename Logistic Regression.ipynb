{
  "nbformat": 4,
  "nbformat_minor": 0,
  "metadata": {
    "colab": {
      "provenance": []
    },
    "kernelspec": {
      "name": "python3",
      "display_name": "Python 3"
    },
    "language_info": {
      "name": "python"
    }
  },
  "cells": [
    {
      "cell_type": "markdown",
      "source": [
        "#***Logistic Regression***\n",
        "\n",
        "###Multiclass classification\n",
        "\n"
      ],
      "metadata": {
        "id": "6FPOXnGrSCNu"
      }
    },
    {
      "cell_type": "code",
      "source": [
        "#importing pandas, numpy and matplotlib\n",
        "import pandas as pd\n",
        "import matplotlib.pyplot as plt\n",
        "import numpy as np"
      ],
      "metadata": {
        "id": "TY_OhuXtSNNb"
      },
      "execution_count": 1,
      "outputs": []
    },
    {
      "cell_type": "code",
      "source": [
        "#importing the required file to proceed\n",
        "logistic=pd.read_csv('/content/drive/MyDrive/classification_train.csv')\n",
        "print(logistic.shape)\n",
        "\n",
        "#creating a 2D array\n",
        "x_train=np.zeros((30000,786))\n",
        "\n",
        "#importing values from polynomial train to the array x_train\n",
        "x_train = logistic.loc[:,:]"
      ],
      "metadata": {
        "id": "uEJldeQGSaGR",
        "colab": {
          "base_uri": "https://localhost:8080/"
        },
        "outputId": "7c0c3a13-a64a-4156-b45a-5da948bdbafb"
      },
      "execution_count": 2,
      "outputs": [
        {
          "output_type": "stream",
          "name": "stdout",
          "text": [
            "(30000, 786)\n"
          ]
        }
      ]
    },
    {
      "cell_type": "code",
      "source": [
        "#creating array\n",
        "x_train=np.array(x_train)\n",
        "y_test= np.array(x_train[:,1])\n",
        "\n",
        "#removing 1st and 2nd column\n",
        "\n",
        "x_train=np.delete(x_train,0,axis=1)\n",
        "x_train=np.delete(x_train,0,axis=1)\n",
        "y_test=y_test.reshape(30000,1)"
      ],
      "metadata": {
        "id": "wOLoQYWdDXyC"
      },
      "execution_count": 3,
      "outputs": []
    },
    {
      "cell_type": "code",
      "source": [
        "#This normalise X\n",
        "def normalise(x):\n",
        "  mean=np.mean(x,axis=0)\n",
        "  std=np.std(x,axis=0)\n",
        "  x_n=(x-mean)/std\n",
        "  return x_n\n",
        "  \n",
        "x_train=normalise(x_train)\n",
        "print(x_train.shape)"
      ],
      "metadata": {
        "colab": {
          "base_uri": "https://localhost:8080/"
        },
        "id": "3RmieMqOu711",
        "outputId": "6334096a-f565-43d6-c146-3c83d33792a4"
      },
      "execution_count": 4,
      "outputs": [
        {
          "output_type": "stream",
          "name": "stdout",
          "text": [
            "(30000, 784)\n"
          ]
        }
      ]
    },
    {
      "cell_type": "code",
      "source": [
        "#creating a new 30000,10 array from y_test\n",
        "y_Test=np.zeros((30000,10))\n",
        "\n",
        "#this function takes the value and create a 30000 x 10 array like 0 0 1 0....0 0 \n",
        "def change(g):\n",
        "  for i in range (30000):\n",
        "    p=int(y_test[i])\n",
        "    y_Test[i,p]=1\n",
        "  return y_Test\n",
        "\n",
        "y_Test= change(y_test)\n",
        "w=np.zeros((784,10))\n",
        "b=0"
      ],
      "metadata": {
        "id": "lMgOrWOqxPer"
      },
      "execution_count": 5,
      "outputs": []
    },
    {
      "cell_type": "code",
      "source": [
        "#sigmoid function\n",
        "def sigmoid(x,w,b):\n",
        "  z=np.dot(x,w) + b\n",
        "  return 1/(1+np.exp(-z))"
      ],
      "metadata": {
        "id": "8_-yPAatFGA8"
      },
      "execution_count": 6,
      "outputs": []
    },
    {
      "cell_type": "code",
      "source": [
        "#This return an array (prediction)\n",
        "def prediction(s):\n",
        "  return np.argmax(s , axis=1)"
      ],
      "metadata": {
        "id": "IfjLiOxgv8e9"
      },
      "execution_count": 7,
      "outputs": []
    },
    {
      "cell_type": "code",
      "source": [
        "#to calculate rms error function\n",
        "def Rms(predictions, targets):\n",
        "      return np.sqrt(((predictions - targets) ** 2).mean())"
      ],
      "metadata": {
        "id": "Ic4cSzAF5kKV"
      },
      "execution_count": 8,
      "outputs": []
    },
    {
      "cell_type": "code",
      "source": [
        "#return the cost of the prediction\n",
        "def cost(x,y,w,b):\n",
        "  f=sigmoid(x,w,b)\n",
        "  L=np.sum(y*(np.log(f))+(1-y)*(np.log(1-f)))\n",
        "  J=-L/60000\n",
        "  return J\n",
        "\n",
        "#Let's see the cost \n",
        "cost(x_train,y_Test,w,b)  "
      ],
      "metadata": {
        "id": "3MjZnT1BR2Mi",
        "colab": {
          "base_uri": "https://localhost:8080/"
        },
        "outputId": "092fba87-82c6-429b-aa2e-b0c214fd6e17"
      },
      "execution_count": 9,
      "outputs": [
        {
          "output_type": "execute_result",
          "data": {
            "text/plain": [
              "3.4657359027997234"
            ]
          },
          "metadata": {},
          "execution_count": 9
        }
      ]
    },
    {
      "cell_type": "code",
      "source": [
        "#This calculates dJ/dw and dJ/db and returns that \n",
        "def gradient(x,y,w,b):\n",
        "  dj_dw=np.zeros((784,10))\n",
        "  m=x.shape[0]\n",
        "  f=sigmoid(x,w,b)\n",
        "  dj_db=np.sum(f-y)/m \n",
        "  dj_dw=np.dot(x.T,f-y)/m \n",
        "  return dj_dw, dj_db"
      ],
      "metadata": {
        "id": "OaRbev9JLt_q"
      },
      "execution_count": 10,
      "outputs": []
    },
    {
      "cell_type": "code",
      "source": [
        "def gradient_descent(x,w,b,y,alpha):\n",
        "  for i in range(iterations):\n",
        "    dj_dw_f, dj_db_f= gradient(x,y,w,b)\n",
        "    w= w - alpha*dj_dw_f\n",
        "    b= b - alpha*dj_db_f\n",
        "    h=cost(x,y,w,b)\n",
        "    if i%100==0:\n",
        "      print(\"cost after\",i,\"iterations is:\", h)\n",
        "    plt.scatter(i,h,marker='X',c='b')\n",
        "    plt.title(\"GRAPH FOR COST VS ITERATIONS\")\n",
        "    plt.xlabel(\"ITERATIONS\")\n",
        "    plt.ylabel(\"COST\")\n",
        "  return w,b\n",
        "iterations=1000\n",
        "alpha=0.03\n",
        "w,b= gradient_descent(x_train,w,b,y_Test,alpha)\n",
        "print(\"final w \\n\",w)\n",
        "print(\"final b\",b)"
      ],
      "metadata": {
        "id": "WVMbXA1VZfl7",
        "colab": {
          "base_uri": "https://localhost:8080/",
          "height": 906
        },
        "outputId": "d2dd30d4-e4d0-4ec2-8049-0b830bda3697"
      },
      "execution_count": 11,
      "outputs": [
        {
          "output_type": "stream",
          "name": "stdout",
          "text": [
            "cost after 0 iterations is: 3.0076438288810077\n",
            "cost after 100 iterations is: 0.6459931358543786\n",
            "cost after 200 iterations is: 0.5504508973050647\n",
            "cost after 300 iterations is: 0.5127762113533736\n",
            "cost after 400 iterations is: 0.49151897219515095\n",
            "cost after 500 iterations is: 0.47742789461751467\n",
            "cost after 600 iterations is: 0.46718455561487104\n",
            "cost after 700 iterations is: 0.45928179005704484\n",
            "cost after 800 iterations is: 0.4529272598984125\n",
            "cost after 900 iterations is: 0.4476603205991737\n",
            "final w \n",
            " [[-0.00733567 -0.0006022  -0.01088625 ...  0.00071712 -0.01073646\n",
            "  -0.0013612 ]\n",
            " [ 0.02719111 -0.00398688 -0.02416946 ...  0.00066822  0.00582058\n",
            "   0.00980084]\n",
            " [ 0.02998733 -0.01002235  0.02318799 ...  0.00079785 -0.04841969\n",
            "   0.00124457]\n",
            " ...\n",
            " [-0.03091915 -0.01346599  0.04782989 ... -0.001629   -0.0278364\n",
            "   0.00246104]\n",
            " [-0.02226959 -0.00929411  0.02686293 ... -0.00600084 -0.02266506\n",
            "   0.02290632]\n",
            " [ 0.00131763 -0.00558147  0.04675959 ... -0.00055147 -0.04358558\n",
            "   0.00980965]]\n",
            "final b -4.578839437735551\n"
          ]
        },
        {
          "output_type": "display_data",
          "data": {
            "text/plain": [
              "<Figure size 640x480 with 1 Axes>"
            ],
            "image/png": "[encoded data removed]"
          },
          "metadata": {}
        }
      ]
    },
    {
      "cell_type": "code",
      "source": [
        "f=sigmoid(x_train,w,b)\n",
        "y_predicted=prediction(f)\n",
        "y_predicted=y_predicted.reshape(30000,1)\n",
        "c=0\n",
        "for j in range(30000):\n",
        "  if y_test[j]==y_predicted[j]:\n",
        "    c+=1\n",
        "print(\"Accuracy : \",c/300)"
      ],
      "metadata": {
        "id": "1RMeKEkqiToi",
        "colab": {
          "base_uri": "https://localhost:8080/"
        },
        "outputId": "c3e86cab-26f7-4888-dc3e-ccbb1ad78f66"
      },
      "execution_count": 13,
      "outputs": [
        {
          "output_type": "stream",
          "name": "stdout",
          "text": [
            "Accuracy :  84.53333333333333\n"
          ]
        }
      ]
    }
  ]
}