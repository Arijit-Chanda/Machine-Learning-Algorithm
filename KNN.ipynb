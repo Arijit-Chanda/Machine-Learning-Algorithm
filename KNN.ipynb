{
  "nbformat": 4,
  "nbformat_minor": 0,
  "metadata": {
    "colab": {
      "provenance": []
    },
    "kernelspec": {
      "name": "python3",
      "display_name": "Python 3"
    },
    "language_info": {
      "name": "python"
    }
  },
  "cells": [
    {
      "cell_type": "markdown",
      "source": [
        "\n",
        "\n",
        "#*KNN*"
      ],
      "metadata": {
        "id": "gBgfSHMu7Ywl"
      }
    },
    {
      "cell_type": "code",
      "source": [
        "#importing pandas, numpy and matplotlib\n",
        "import pandas as pd\n",
        "import matplotlib.pyplot as plt\n",
        "import numpy as np"
      ],
      "metadata": {
        "id": "dfeJyOA87lXz"
      },
      "execution_count": 1,
      "outputs": []
    },
    {
      "cell_type": "code",
      "source": [
        "#importing the required file to proceed\n",
        "train=pd.read_csv('/content/drive/MyDrive/classification_train.csv')\n",
        "print(train.shape)\n",
        "\n",
        "#creating a 2D array\n",
        "x_train = train.loc[:19999,:]\n",
        "x_train=np.array(x_train)\n",
        "m,n=x_train.shape\n",
        "print(x_train.shape)\n",
        "\n",
        "x_test = train.loc[20000:,:]\n",
        "x_test=np.array(x_test)\n",
        "M,N=x_test.shape\n",
        "print(x_test.shape)"
      ],
      "metadata": {
        "id": "N4z5vsx-7oaX",
        "colab": {
          "base_uri": "https://localhost:8080/"
        },
        "outputId": "840e1eab-2830-461f-ae2c-432015c33082"
      },
      "execution_count": 2,
      "outputs": [
        {
          "output_type": "stream",
          "name": "stdout",
          "text": [
            "(30000, 786)\n",
            "(20000, 786)\n",
            "(10000, 786)\n"
          ]
        }
      ]
    },
    {
      "cell_type": "code",
      "source": [
        "y_train=x_train[:,1]\n",
        "y_train=y_train.reshape(m,1)\n",
        "y_test=x_test[:,1]\n",
        "y_test=y_test.reshape(M,1)"
      ],
      "metadata": {
        "id": "GV9qnekn9aXa"
      },
      "execution_count": 3,
      "outputs": []
    },
    {
      "cell_type": "code",
      "source": [
        "#deleting unwanted columns\n",
        "x_train=np.delete(x_train,0,axis=1)\n",
        "x_train=np.delete(x_train,0,axis=1)\n",
        "x_test=np.delete(x_test,0,axis=1)\n",
        "x_test=np.delete(x_test,0,axis=1)\n",
        "print(x_test.shape)\n",
        "print(x_train.shape)"
      ],
      "metadata": {
        "id": "Rx8zsfWc9qe3",
        "colab": {
          "base_uri": "https://localhost:8080/"
        },
        "outputId": "95e05821-c531-4b9e-f82a-e516fb450f98"
      },
      "execution_count": 4,
      "outputs": [
        {
          "output_type": "stream",
          "name": "stdout",
          "text": [
            "(10000, 784)\n",
            "(20000, 784)\n"
          ]
        }
      ]
    },
    {
      "cell_type": "code",
      "source": [
        "#to cal the distance\n",
        "def dis(x_m,x_t,i):\n",
        "  d=np.zeros((m,1))\n",
        "  d=np.sum((x_m-x_t[i])**2,axis=1)\n",
        "  d=np.sqrt(d)\n",
        "  d=d.reshape(m,1)\n",
        "  return d"
      ],
      "metadata": {
        "id": "sA4OAdAo-7Gm"
      },
      "execution_count": 5,
      "outputs": []
    },
    {
      "cell_type": "code",
      "source": [
        "def prediction(x_m,x_t,y,k,n):\n",
        "  predict=np.zeros(n)\n",
        "  for i in range(n):\n",
        "    #dis is calculated\n",
        "    d=dis(x_m,x_t,i)\n",
        "    #dis with its corresponding y is being added\n",
        "    A=np.c_[y,d]\n",
        "    #A is sorted on the basis of dis\n",
        "    A=A[A[:,1].argsort()]\n",
        "    A=np.int_(A) #all numbers converted to int\n",
        "\n",
        "    ''' Only first k shortest dis are taken'''\n",
        "    X=np.array(A[:k,:])\n",
        "    '''To take the number that appeared max no of times'''\n",
        "    predict[i]=np.bincount(X[:,0]).argmax()\n",
        "\n",
        "    if i%100==0:\n",
        "      print(\"no of examples tested out\",i)\n",
        "\n",
        "  return predict\n",
        "\n",
        "#k from 30 to 100 for best\n",
        "k=int(input(\" Put the value of k \"))\n",
        "\n",
        "#nex should be between 1 to 10,000\n",
        "nex=int(input(\"No of examples you want to verify to check accuracy : \"))\n",
        "\n",
        "yf=prediction(x_train,x_test,y_train,k,nex)\n",
        "yf=yf.reshape(-1,1)\n"
      ],
      "metadata": {
        "id": "3p23VbBOSonp",
        "colab": {
          "base_uri": "https://localhost:8080/"
        },
        "outputId": "6a2dbb43-a5cb-4dcf-980c-0d23d87b2d6f"
      },
      "execution_count": 6,
      "outputs": [
        {
          "output_type": "stream",
          "name": "stdout",
          "text": [
            " Put the value of k 15\n",
            "No of examples you want to verify to check accuracy : 1000\n",
            "no of examples tested out 0\n",
            "no of examples tested out 100\n",
            "no of examples tested out 200\n",
            "no of examples tested out 300\n",
            "no of examples tested out 400\n",
            "no of examples tested out 500\n",
            "no of examples tested out 600\n",
            "no of examples tested out 700\n",
            "no of examples tested out 800\n",
            "no of examples tested out 900\n"
          ]
        }
      ]
    },
    {
      "cell_type": "code",
      "source": [
        "c=0\n",
        "for j in range(nex):\n",
        "  if yf[j]==y_test[j]:\n",
        "    c+=1\n",
        "print(\"Accuracy : \", 100*c/nex)\n"
      ],
      "metadata": {
        "colab": {
          "base_uri": "https://localhost:8080/"
        },
        "id": "4cCiZTn9y0YK",
        "outputId": "40e705ce-e783-45f5-fa19-95662394375c"
      },
      "execution_count": 7,
      "outputs": [
        {
          "output_type": "stream",
          "name": "stdout",
          "text": [
            "Accuracy :  81.4\n"
          ]
        }
      ]
    }
  ]
}