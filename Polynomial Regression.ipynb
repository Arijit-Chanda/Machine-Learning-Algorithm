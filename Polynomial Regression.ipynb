{
  "cells": [
    {
      "cell_type": "markdown",
      "metadata": {
        "id": "Z5uKv2IlaHLj"
      },
      "source": [
        "#WINTER OF CODE 5.0\n",
        "\n",
        "##Polynomial Regresssion"
      ]
    },
    {
      "cell_type": "code",
      "execution_count": 1,
      "metadata": {
        "id": "H3xGsf-KaTph"
      },
      "outputs": [],
      "source": [
        "#importing pandas, numpy and matplotlib\n",
        "import pandas as pd\n",
        "import matplotlib.pyplot as plt\n",
        "import numpy as np"
      ]
    },
    {
      "cell_type": "code",
      "execution_count": 2,
      "metadata": {
        "colab": {
          "base_uri": "https://localhost:8080/"
        },
        "id": "6tAR7P_XakGF",
        "outputId": "11199f65-dd26-4d5a-a715-5b17887d9bdf"
      },
      "outputs": [
        {
          "output_type": "stream",
          "name": "stdout",
          "text": [
            "(50000, 5)\n"
          ]
        }
      ],
      "source": [
        "#Loading a csv file\n",
        "polynomial_train = pd.read_csv('/content/drive/MyDrive/polynomial_train.csv')\n",
        "print(polynomial_train.shape)\n",
        "\n",
        "#creating a 2D array\n",
        "x_train=np.zeros((50000,5))\n",
        "\n",
        "#importing values from polynomial train to the array x_train\n",
        "x_train = polynomial_train.loc[:,:]"
      ]
    },
    {
      "cell_type": "code",
      "execution_count": 3,
      "metadata": {
        "id": "CuLTesTDcP90"
      },
      "outputs": [],
      "source": [
        "#creating array\n",
        "x_train=np.array(x_train)\n",
        "y_test= np.array(x_train[:,4])\n",
        "\n",
        "#deleting 1st and last column of x_train\n",
        "x_train=np.delete(x_train,4,axis=1)\n",
        "x_train=np.delete(x_train,0,axis=1)"
      ]
    },
    {
      "cell_type": "code",
      "source": [
        "'''new variables to store seperate columns'''\n",
        "a=x_train[:,0]\n",
        "a=a.reshape(-1,1)\n",
        "b=x_train[:,1]\n",
        "b=b.reshape(-1,1)\n",
        "c=x_train[:,2]\n",
        "c=c.reshape(-1,1)"
      ],
      "metadata": {
        "id": "MzbXzugK77lm"
      },
      "execution_count": 4,
      "outputs": []
    },
    {
      "cell_type": "code",
      "execution_count": 5,
      "metadata": {
        "colab": {
          "base_uri": "https://localhost:8080/"
        },
        "id": "ygamBPiBErQm",
        "outputId": "38c41139-271e-445f-aad4-ff5d4651f393"
      },
      "outputs": [
        {
          "output_type": "stream",
          "name": "stdout",
          "text": [
            "(50000, 19)\n"
          ]
        }
      ],
      "source": [
        "#polynomial fuction f(x)= a + b + c + a**2 + b**2 + c**2 + a**3 + b**3 + c**3 + a**2*b + b**2*c + c**2*a + abc + ab + bc + ca + a**2*c + b**2*a + c**2*b . \n",
        "X_train = np.c_[x_train, x_train*a , b*c ,b**2 ,c**2,(x_train**2)*a,(x_train**2)*b,(x_train**2)*c, a*b*c]\n",
        "print(X_train.shape)"
      ]
    },
    {
      "cell_type": "code",
      "execution_count": 6,
      "metadata": {
        "colab": {
          "base_uri": "https://localhost:8080/"
        },
        "id": "WGd_Jv1MZqD7",
        "outputId": "ad58c14a-3bbe-48ce-d746-b1d2bac829ee"
      },
      "outputs": [
        {
          "output_type": "stream",
          "name": "stdout",
          "text": [
            "(50000, 19)\n"
          ]
        }
      ],
      "source": [
        "#This normalise X\n",
        "def normalise(x):\n",
        "  mean=np.mean(x,axis=0)\n",
        "  std=np.std(x,axis=0)\n",
        "  x_n=(x-mean)/std\n",
        "  return x_n\n",
        "  \n",
        "X_train=normalise(X_train)\n",
        "print(X_train.shape)"
      ]
    },
    {
      "cell_type": "code",
      "execution_count": 7,
      "metadata": {
        "id": "fI2ag6-zEszg",
        "colab": {
          "base_uri": "https://localhost:8080/"
        },
        "outputId": "62747c4a-f42e-47cf-9edb-5b25780c5b3f"
      },
      "outputs": [
        {
          "output_type": "stream",
          "name": "stdout",
          "text": [
            "[[ -1294.28891782]\n",
            " [-27146.87008356]\n",
            " [ 64743.00171817]\n",
            " ...\n",
            " [  -285.70796526]\n",
            " [  8161.59530383]\n",
            " [  -255.16713134]]\n"
          ]
        }
      ],
      "source": [
        "y_test=y_test.reshape(50000,1)\n",
        "'''Y_test is printed before manipulating its value'''\n",
        "print(y_test)\n",
        "\n",
        "#To bring the value of y in between 0 and 1\n",
        "y_test=(y_test-np.min(y_test))/(np.max(y_test)-np.min(y_test)) "
      ]
    },
    {
      "cell_type": "code",
      "execution_count": 8,
      "metadata": {
        "id": "gmr7VArmNjdn",
        "colab": {
          "base_uri": "https://localhost:8080/"
        },
        "outputId": "e69ef040-e86a-4fe3-9c38-e6dbbe816037"
      },
      "outputs": [
        {
          "output_type": "stream",
          "name": "stdout",
          "text": [
            "(50000, 1)\n"
          ]
        }
      ],
      "source": [
        "w=np.zeros((19,1))\n",
        "b=1\n",
        "#Find  value of the Funtion f= w1x1 + w2x2 + w3x3 +...... +b\n",
        "def predict(x,w,b):\n",
        "  f_wb= np.dot(x,w) + b\n",
        "  return f_wb\n",
        "\n",
        "y_predict=predict(X_train,w,b)\n",
        "print(y_predict.shape)"
      ]
    },
    {
      "cell_type": "code",
      "execution_count": 9,
      "metadata": {
        "id": "401AlQ5gOaBm",
        "colab": {
          "base_uri": "https://localhost:8080/"
        },
        "outputId": "cd43f004-909a-49f7-b9bf-dc61bb3ae364"
      },
      "outputs": [
        {
          "output_type": "execute_result",
          "data": {
            "text/plain": [
              "0.16583584798708337"
            ]
          },
          "metadata": {},
          "execution_count": 9
        }
      ],
      "source": [
        "'''to compute cost by the formula summation(f(x)-y)**2 and \n",
        "then divided my 2*no of different sets of data'''\n",
        "\n",
        "def cost(x,y,w,b):\n",
        "  f=predict(x,w,b)\n",
        "  m=x.shape[0]\n",
        "  cost=(f-y)**2 \n",
        "  cost=cost/(2*m)\n",
        "  cost=np.sum(cost)\n",
        "  return cost\n",
        "  \n",
        "#Let's see the cost \n",
        "cost(X_train,y_test,w,b)   "
      ]
    },
    {
      "cell_type": "code",
      "source": [
        "#to calculate rms error function\n",
        "def Rms(predictions, targets):\n",
        "      return np.sqrt(((predictions - targets) ** 2).mean())"
      ],
      "metadata": {
        "id": "xVe2JYlA_Cku"
      },
      "execution_count": 10,
      "outputs": []
    },
    {
      "cell_type": "code",
      "execution_count": 11,
      "metadata": {
        "id": "E8z6Bu4vQAmN",
        "colab": {
          "base_uri": "https://localhost:8080/"
        },
        "outputId": "295f7bbe-e858-44db-cb0f-23b79062b147"
      },
      "outputs": [
        {
          "output_type": "execute_result",
          "data": {
            "text/plain": [
              "(array([[-7.00836506e-03],\n",
              "        [-9.37387268e-05],\n",
              "        [-1.08234988e-04],\n",
              "        [ 2.36971857e-04],\n",
              "        [-2.51071121e-03],\n",
              "        [ 6.33633297e-03],\n",
              "        [ 2.14644384e-05],\n",
              "        [-2.11541714e-05],\n",
              "        [ 1.24003878e-04],\n",
              "        [-1.22951801e-02],\n",
              "        [-4.07243599e-03],\n",
              "        [-5.49788858e-03],\n",
              "        [-4.03168732e-04],\n",
              "        [-5.56490964e-05],\n",
              "        [ 1.09402766e-05],\n",
              "        [-5.62166062e-04],\n",
              "        [-2.33479919e-05],\n",
              "        [-1.30543658e-04],\n",
              "        [ 2.19284275e-03]]),\n",
              " 0.5757462404492083)"
            ]
          },
          "metadata": {},
          "execution_count": 11
        }
      ],
      "source": [
        "#This calculates dJ/dw and dJ/db and returns that \n",
        "def gradient(x,y,w,b):\n",
        "  dj_dw=np.zeros((19,1))\n",
        "  dj_db=0\n",
        "  m=x.shape[0]\n",
        "  f= predict(x,w,b)\n",
        "  dj_db=np.sum(f-y)/m \n",
        "  dj_dw=np.dot(x.T,f-y)/m \n",
        "  return dj_dw, dj_db \n",
        "\n",
        "gradient(X_train,y_test,w,b)"
      ]
    },
    {
      "cell_type": "code",
      "execution_count": 12,
      "metadata": {
        "colab": {
          "base_uri": "https://localhost:8080/",
          "height": 1000
        },
        "id": "94EZ4MRXQXSg",
        "outputId": "41b07c14-ca64-4be6-8739-3fca48f09cef"
      },
      "outputs": [
        {
          "output_type": "stream",
          "name": "stdout",
          "text": [
            "cost after 1000 iterations 0.0030459268275082117\n",
            "cost after 2000 iterations 6.935055665645558e-05\n",
            "cost after 3000 iterations 1.2746123890118994e-05\n",
            "cost after 4000 iterations 1.0770883592070864e-05\n",
            "cost after 5000 iterations 1.0278929508377046e-05\n",
            "cost after 6000 iterations 1.0032785472967479e-05\n",
            "cost after 7000 iterations 9.901075919128913e-06\n",
            "cost after 8000 iterations 9.829260490032427e-06\n",
            "cost after 9000 iterations 9.789510130712934e-06\n",
            "cost after 10000 iterations 9.767121474310718e-06\n",
            "final w \n",
            " [[-5.56938490e-03]\n",
            " [-1.45634360e-04]\n",
            " [-1.37190772e-04]\n",
            " [ 1.57038565e-04]\n",
            " [-1.84852269e-04]\n",
            " [ 1.47962486e-03]\n",
            " [ 6.44378793e-05]\n",
            " [-2.96150996e-05]\n",
            " [ 6.53023599e-05]\n",
            " [ 1.71194025e-02]\n",
            " [ 2.65519436e-05]\n",
            " [ 8.43970586e-04]\n",
            " [ 6.44041401e-04]\n",
            " [-2.17192333e-05]\n",
            " [ 2.29818809e-05]\n",
            " [ 7.85082807e-04]\n",
            " [-4.16061461e-05]\n",
            " [ 5.25027344e-05]\n",
            " [-1.88455130e-04]]\n",
            "final b 0.42425376071396403\n"
          ]
        },
        {
          "output_type": "display_data",
          "data": {
            "text/plain": [
              "<Figure size 640x480 with 1 Axes>"
            ],
            "image/png": "[encoded data removed]"
          },
          "metadata": {}
        }
      ],
      "source": [
        "'''This uses the partial derivative and change w and b. \n",
        "In each steps to calculate cost and after complitions display the graph.\n",
        "Also it gives the final w and b'''  \n",
        "\n",
        "def gradient_descent(x,y,w,b,alpha):\n",
        "  for i in range(iterations):\n",
        "    dj_dw_f, dj_db_f= gradient(x,y,w,b)\n",
        "    w= w - alpha*dj_dw_f\n",
        "    b= b - alpha*dj_db_f\n",
        "    if (i+1)%1000==0:\n",
        "      print(\"cost after\",i+1,\"iterations\",cost(x,y,w,b))\n",
        "    h=cost(x,y,w,b)\n",
        "    plt.plot(i,h,c='b',marker='x')\n",
        "    plt.title(\"GRAPH FOR COST VS ITERATIONS\")\n",
        "    plt.xlabel(\"ITERATIONS\")\n",
        "    plt.ylabel(\"COST\")\n",
        "  return w,b\n",
        "\n",
        "iterations=10000\n",
        "alpha=0.002\n",
        "w,b = gradient_descent(X_train,y_test,w,b,alpha)\n",
        "print(\"final w \\n\",w)\n",
        "print(\"final b\",b)\n"
      ]
    },
    {
      "cell_type": "code",
      "source": [
        "y_predict=predict(X_train,w,b)\n",
        "print(\"RMS error is : \", Rms(y_predict,y_test))"
      ],
      "metadata": {
        "colab": {
          "base_uri": "https://localhost:8080/"
        },
        "id": "R5Etdri__zLp",
        "outputId": "e305d579-128f-42bd-a3ad-ec7d440b41c6"
      },
      "execution_count": 13,
      "outputs": [
        {
          "output_type": "stream",
          "name": "stdout",
          "text": [
            "RMS error is :  0.004419755982927274\n"
          ]
        }
      ]
    }
  ],
  "metadata": {
    "colab": {
      "provenance": []
    },
    "kernelspec": {
      "display_name": "Python 3",
      "name": "python3"
    },
    "language_info": {
      "name": "python"
    }
  },
  "nbformat": 4,
  "nbformat_minor": 0
}